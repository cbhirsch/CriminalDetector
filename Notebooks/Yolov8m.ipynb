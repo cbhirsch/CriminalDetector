{
 "cells": [
  {
   "cell_type": "code",
   "execution_count": null,
   "metadata": {},
   "outputs": [],
   "source": [
    "from ultralytics import YOLO\n",
    "import cv2"
   ]
  },
  {
   "cell_type": "code",
   "execution_count": null,
   "metadata": {},
   "outputs": [],
   "source": [
    "# Load the pretrained YOLOv8m model\n",
    "model = YOLO('yolov8m.pt')  # Use the appropriate path to your YOLOv8m model"
   ]
  },
  {
   "cell_type": "code",
   "execution_count": null,
   "metadata": {},
   "outputs": [],
   "source": [
    "# Function to stream video and apply YOLOv8m detection\n",
    "def stream_and_detect(video_source=0):\n",
    "    \"\"\"\n",
    "    Streams video from the specified source and applies YOLOv8m object detection on each frame.\n",
    "    \n",
    "    Args:\n",
    "        video_source: The video source to capture from. \n",
    "                      Can be a device index (0 for default camera), a video file path, or a stream URL.\n",
    "    \"\"\"\n",
    "    # Capture video stream (0 for default webcam, or use video file path/URL)\n",
    "    cap = cv2.VideoCapture(video_source)\n",
    "    \n",
    "    # Check if the video source is opened successfully\n",
    "    if not cap.isOpened():\n",
    "        print(f\"Error: Could not open video source {video_source}\")\n",
    "        return\n",
    "\n",
    "    while True:\n",
    "        # Read a frame from the video source\n",
    "        ret, frame = cap.read()\n",
    "        \n",
    "        if not ret:\n",
    "            print(\"Error: Unable to read frame from video source\")\n",
    "            break\n",
    "        \n",
    "        # Perform detection using YOLOv8m\n",
    "        results = model(frame)\n",
    "        \n",
    "        # Draw bounding boxes and labels on the frame\n",
    "        annotated_frame = results.plot()  # Plotting results on the frame\n",
    "        \n",
    "        # Display the frame with detections\n",
    "        cv2.imshow('YOLOv8m Video Stream', annotated_frame)\n",
    "        \n",
    "        # Press 'q' to exit the stream\n",
    "        if cv2.waitKey(1) & 0xFF == ord('q'):\n",
    "            break\n",
    "    \n",
    "    # Release the video capture object and close all OpenCV windows\n",
    "    cap.release()\n",
    "    cv2.destroyAllWindows()\n",
    "\n",
    "if __name__ == \"__main__\":\n",
    "    # Specify the video source (0 for default webcam, or path/URL for a video file/stream)\n",
    "    video_source = 0  # Can replace with a video path like 'video.mp4' or a stream URL\n",
    "    stream_and_detect(video_source)\n"
   ]
  }
 ],
 "metadata": {
  "kernelspec": {
   "display_name": "venv",
   "language": "python",
   "name": "python3"
  },
  "language_info": {
   "name": "python",
   "version": "3.11.0"
  }
 },
 "nbformat": 4,
 "nbformat_minor": 2
}
