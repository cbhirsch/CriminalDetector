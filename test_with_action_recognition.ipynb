{
 "cells": [
  {
   "cell_type": "code",
   "execution_count": 4,
   "metadata": {},
   "outputs": [
    {
     "name": "stdout",
     "output_type": "stream",
     "text": [
      "End of video stream or error.\n"
     ]
    },
    {
     "name": "stderr",
     "output_type": "stream",
     "text": [
      "OpenCV: Couldn't read video stream from file \"BigBuckBunny_320x180.mp4\"\n"
     ]
    }
   ],
   "source": [
    "from ultralytics import YOLO\n",
    "import cv2\n",
    "import numpy as np\n",
    "import torch\n",
    "from torchvision import models, transforms\n",
    "from collections import deque\n",
    "\n",
    "# Load the pretrained YOLOv8m model\n",
    "model_yolo = YOLO('yolov8m.pt')\n",
    "\n",
    "# Load a pre-trained 3D-CNN model for action recognition (e.g., ResNet3D-18)\n",
    "model_i3d = models.video.r3d_18(pretrained=True)  # Using ResNet3D-18 as an example\n",
    "model_i3d.eval()\n",
    "\n",
    "# Action labels for action recognition (replace with your specific labels)\n",
    "action_labels = {0: 'fighting', 1: 'running', 2: 'stealing'}  # Example action classes\n",
    "\n",
    "# Initialize video capture\n",
    "video_source = \"/data/BigBuckBunny_320x180.mp4\"  # Replace with your video source\n",
    "cap = cv2.VideoCapture(video_source)\n",
    "\n",
    "# Initialize a deque to store a sequence of frames for action recognition\n",
    "frame_sequence = deque(maxlen=16)  # Example using 16 frames for temporal context\n",
    "\n",
    "# Define transformation for 3D-CNN input\n",
    "transform = transforms.Compose([\n",
    "    transforms.Resize((112, 112)),\n",
    "    transforms.ToTensor()\n",
    "])\n",
    "\n",
    "def process_frames(frames):\n",
    "    \"\"\"\n",
    "    Prepare a batch of frames for the 3D-CNN action recognition model.\n",
    "    \"\"\"\n",
    "    # Apply the transformations and stack them\n",
    "    batch = torch.stack([transform(frame) for frame in frames], dim=1)  # Shape: (3, 16, 112, 112)\n",
    "    return batch.unsqueeze(0)  # Shape: (1, 3, 16, 112, 112)\n",
    "\n",
    "while True:\n",
    "    # Read a frame from the video source\n",
    "    ret, frame = cap.read()\n",
    "    \n",
    "    if not ret:\n",
    "        print(\"End of video stream or error.\")\n",
    "        break\n",
    "\n",
    "    # Perform YOLO detection on the current frame\n",
    "    results = model_yolo(frame)\n",
    "    annotated_frame = results[0].plot()\n",
    "\n",
    "    # Print detected objects and their confidence scores\n",
    "    detected_objects = results[0].boxes.data.cpu().numpy()  # Get detected boxes\n",
    "    for obj in detected_objects:\n",
    "        class_id = int(obj[5])  # Get class ID of detected object\n",
    "        confidence = obj[4]  # Confidence score of the detection\n",
    "        object_name = model_yolo.names[class_id]  # Convert class ID to object name using YOLO model's class names\n",
    "        print(f\"Detected: {object_name} with confidence {confidence:.2f}\")\n",
    "\n",
    "    # Display YOLO object detection result\n",
    "    cv2.imshow('YOLO Object Detection', annotated_frame)\n",
    "\n",
    "    # Resize and convert the frame to RGB for 3D-CNN input\n",
    "    rgb_frame = cv2.cvtColor(cv2.resize(frame, (112, 112)), cv2.COLOR_BGR2RGB)\n",
    "    frame_sequence.append(rgb_frame)\n",
    "\n",
    "    # Check if we have enough frames for action recognition\n",
    "    if len(frame_sequence) == 16:\n",
    "        # Process the frames and prepare a batch for 3D-CNN\n",
    "        input_batch = process_frames(list(frame_sequence))\n",
    "\n",
    "        # Run the 3D-CNN model to predict actions\n",
    "        with torch.no_grad():\n",
    "            action_scores = model_i3d(input_batch)\n",
    "\n",
    "        # Get the predicted action\n",
    "        predicted_action = torch.argmax(action_scores, dim=1).item()\n",
    "        \n",
    "        # Print the detected activity in human-readable form\n",
    "        print(f\"Predicted Action: {action_labels.get(predicted_action, 'Unknown')}\")\n",
    "\n",
    "        # Reset the frame sequence after processing\n",
    "        frame_sequence.clear()\n",
    "\n",
    "    # Press 'q' to exit the stream\n",
    "    if cv2.waitKey(1) & 0xFF == ord('q'):\n",
    "        break\n",
    "\n",
    "# Release the video capture object and close all OpenCV windows\n",
    "cap.release()\n",
    "cv2.destroyAllWindows()\n"
   ]
  }
 ],
 "metadata": {
  "kernelspec": {
   "display_name": "Python 3",
   "language": "python",
   "name": "python3"
  },
  "language_info": {
   "codemirror_mode": {
    "name": "ipython",
    "version": 3
   },
   "file_extension": ".py",
   "mimetype": "text/x-python",
   "name": "python",
   "nbconvert_exporter": "python",
   "pygments_lexer": "ipython3",
   "version": "3.9.6"
  }
 },
 "nbformat": 4,
 "nbformat_minor": 2
}
